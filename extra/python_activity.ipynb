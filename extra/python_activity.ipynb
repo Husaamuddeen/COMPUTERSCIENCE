{
  "nbformat": 4,
  "nbformat_minor": 0,
  "metadata": {
    "colab": {
      "provenance": [],
      "include_colab_link": true
    },
    "kernelspec": {
      "name": "python3",
      "display_name": "Python 3"
    },
    "language_info": {
      "name": "python"
    }
  },
  "cells": [
    {
      "cell_type": "markdown",
      "metadata": {
        "id": "view-in-github",
        "colab_type": "text"
      },
      "source": [
        "<a href=\"https://colab.research.google.com/github/Husaamuddeen/COMPUTERSCIENCE/blob/main/python_activity.ipynb\" target=\"_parent\"><img src=\"https://colab.research.google.com/assets/colab-badge.svg\" alt=\"Open In Colab\"/></a>"
      ]
    },
    {
      "cell_type": "markdown",
      "source": [
        "# Access project workshop 💻\n",
        "\n",
        "> **Computer Science:** The study of computers and computational systems, including their theory, design, development, and application. It covers areas like algorithms, programming, data structures, artificial intelligence, and computer hardware.\n",
        "\n",
        "> **Programming:** The process of writing instructions that a computer can execute to perform a specific task.\n",
        "\n",
        "> **Coding Language:** A formal language used to write programs that a computer can understand and execute. An example of programming language is Python, which we will be using today !\n",
        "\n",
        "\n",
        "\n",
        "-----------------------------------------------------------------------------\n",
        "\n",
        "# 1- Printing ⭐\n",
        "> 💡 The text after the \"\\#\" symbole is not being read by the computer. Hence, you can use to write comments about your code.\n",
        "\n",
        "> ✍ Let's start by \"printing\" or in other words writing something.\n",
        "Click on shift enter to run the next cell."
      ],
      "metadata": {
        "id": "dmsnW8MgK2Gq"
      }
    },
    {
      "cell_type": "code",
      "source": [
        "print(\"hello world\") # prints \"hello world\""
      ],
      "metadata": {
        "id": "_LGNCpArMSCj"
      },
      "execution_count": null,
      "outputs": []
    },
    {
      "cell_type": "markdown",
      "source": [
        "\n",
        "\n",
        "> 💡 \"print\" is called a function. A function in programming is a reusable block of code that performs a specific task. It takes input (optional), processes it, and returns an output (optional). Here, print takes \"hello world\" as an input, and prints it as an output.\n",
        "\n",
        "\n",
        "\n",
        "> ✍ Now, try it yourself ! Print a sentence introducing yourself in the following cell:"
      ],
      "metadata": {
        "id": "02mWFhR0RF92"
      }
    },
    {
      "cell_type": "code",
      "source": [
        "# write you print statement here"
      ],
      "metadata": {
        "id": "xmeCJt86MUpX"
      },
      "execution_count": null,
      "outputs": []
    },
    {
      "cell_type": "markdown",
      "source": [
        "# 2 - Changing fronts ⭐ ⭐"
      ],
      "metadata": {
        "id": "86TpDZOilDBm"
      }
    },
    {
      "cell_type": "markdown",
      "source": [
        "\n",
        "\n",
        "\n",
        "\n",
        "> ✍  The options are broad ! let's try to print with a more elaborate presentation. Simply run the following cell.\n"
      ],
      "metadata": {
        "id": "xq2To4N0UGQO"
      }
    },
    {
      "cell_type": "code",
      "source": [
        "!pip install pyfiglet                           # This installs a package, which will give us access to additional functions.\n",
        "import pyfiglet                                 # Here, we are \"importing\" a function, so that the computer has access to it.\n",
        "print(pyfiglet.figlet_format(\"HELLO WORLD\"))    # Finally, assigning an input to the print function."
      ],
      "metadata": {
        "id": "wxaH_AD4TZbn"
      },
      "execution_count": null,
      "outputs": []
    },
    {
      "cell_type": "markdown",
      "source": [
        "# 3 - For loops ⭐ ⭐ ⭐\n",
        "\n",
        "> ✍ Try printing you name 5 times, along the number of times you've written it (e.g. name 1, name 2, name 3, name 4, name 5)\n",
        "\n",
        "\n",
        "\n",
        "\n",
        "\n"
      ],
      "metadata": {
        "id": "LLNDoV0bWjpJ"
      }
    },
    {
      "cell_type": "code",
      "source": [
        "# Write your code here"
      ],
      "metadata": {
        "id": "7ASoksy2TaAa"
      },
      "execution_count": null,
      "outputs": []
    },
    {
      "cell_type": "markdown",
      "source": [
        "> 💡 Do make things easier, we can use what is called a loop. A loop in programming is a control structure that repeats a block of code multiple times until a condition is met.\n",
        "\n",
        "\n",
        "\n",
        "> ✍ Let's try that by running the next cells:\n",
        "\n",
        "\n",
        "\n"
      ],
      "metadata": {
        "id": "BUZhS_4YaRYP"
      }
    },
    {
      "cell_type": "code",
      "source": [
        "range(5)     # creates a range of values from 0 to the specified number (here, 5)"
      ],
      "metadata": {
        "colab": {
          "base_uri": "https://localhost:8080/"
        },
        "id": "kh7u-HDEbFuN",
        "outputId": "e20782c1-0f29-4b7f-9bb5-ae91a92b4060"
      },
      "execution_count": null,
      "outputs": [
        {
          "output_type": "execute_result",
          "data": {
            "text/plain": [
              "range(0, 5)"
            ]
          },
          "metadata": {},
          "execution_count": 13
        }
      ]
    },
    {
      "cell_type": "code",
      "source": [
        "for i in range(5):      # for i taking the values 0, 1, 2, 3, 4\n",
        "  print(\"your name\", i)     # print \"your name\" and \"i\""
      ],
      "metadata": {
        "id": "q6Yv3W-6a-1x"
      },
      "execution_count": null,
      "outputs": []
    },
    {
      "cell_type": "markdown",
      "source": [
        "# 4 - If statements ⭐ ⭐ ⭐ ⭐\n",
        "\n",
        "\n",
        "\n",
        "> ✍ Create a for loop ranging from 0 to 9, and only print numbers that are equal to 1, or 5\n",
        "\n"
      ],
      "metadata": {
        "id": "l_EBSgPHsRn7"
      }
    },
    {
      "cell_type": "code",
      "source": [
        "# write your code here"
      ],
      "metadata": {
        "id": "eA58Iauosxx1"
      },
      "execution_count": null,
      "outputs": []
    },
    {
      "cell_type": "markdown",
      "source": [
        "\n",
        "\n",
        "> 💡 An if statement in Python is a conditional statement that runs a block of code only if a specified condition is True.\n",
        "\n",
        "> ✍ Adapt the following code to print your name only when the number is pair"
      ],
      "metadata": {
        "id": "yNNssxx_toAm"
      }
    },
    {
      "cell_type": "code",
      "source": [
        "for i in range(20):\n",
        "  if i % 2 == 0:\n",
        "    print(\"your name\", i)"
      ],
      "metadata": {
        "id": "pmK02t6hunTJ"
      },
      "execution_count": null,
      "outputs": []
    },
    {
      "cell_type": "markdown",
      "source": [
        "# 5 - FizzBuzz           ⭐ ⭐ ⭐ ⭐ ⭐\n",
        "\n",
        "> ✍ Let's solve the FizzBuzz problem:\n",
        "1.   Print numbers from 1 to n, where n is a given positive integer.\n",
        "2.   For multiples of 3, print \"Fizz\" instead of the number.\n",
        "3.   For multiples of 5, print \"Buzz\" instead of the number.\n",
        "4.   For multiples of both 3 and 5, print \"FizzBuzz\" instead of the number.\n",
        "5.   Otherwise, print the number itself."
      ],
      "metadata": {
        "id": "1thXdyauoQOG"
      }
    },
    {
      "cell_type": "code",
      "source": [],
      "metadata": {
        "id": "-J45UGGpbme3"
      },
      "execution_count": null,
      "outputs": []
    }
  ]
}